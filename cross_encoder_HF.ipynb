{
 "cells": [
  {
   "cell_type": "markdown",
   "id": "3f34e70d-1992-480c-84f4-bd30965f0c8a",
   "metadata": {},
   "source": [
    "## Setup"
   ]
  },
  {
   "cell_type": "code",
   "execution_count": 10,
   "id": "d5c2d0ba-0602-42a4-ab79-dbc3ae938748",
   "metadata": {
    "tags": []
   },
   "outputs": [],
   "source": [
    "import numpy as np\n",
    "import pandas as pd\n",
    "\n",
    "import torch\n",
    "from datasets import load_metric\n",
    "from datasets import Dataset, DatasetDict\n",
    "from transformers import TrainingArguments, Trainer\n",
    "from transformers import AutoModelForSequenceClassification, AutoTokenizer"
   ]
  },
  {
   "cell_type": "code",
   "execution_count": 2,
   "id": "60209a89-a2cb-49c6-8a9c-c92e79739ff4",
   "metadata": {
    "tags": []
   },
   "outputs": [],
   "source": [
    "import logging\n",
    "import warnings\n",
    "\n",
    "warnings.simplefilter('ignore')\n",
    "logging.disable(logging.WARNING)"
   ]
  },
  {
   "cell_type": "markdown",
   "id": "3a51dc25-5784-4f72-a6eb-2286433fcb8c",
   "metadata": {},
   "source": [
    "## Loading Data"
   ]
  },
  {
   "cell_type": "code",
   "execution_count": 3,
   "id": "8017e49c-1143-4bb4-a3f3-bb8037182f41",
   "metadata": {
    "tags": []
   },
   "outputs": [
    {
     "data": {
      "text/plain": [
       "((27383, 4), (9090, 4))"
      ]
     },
     "execution_count": 3,
     "metadata": {},
     "output_type": "execute_result"
    }
   ],
   "source": [
    "# Loading data\n",
    "train_df = pd.read_csv('data/train_df.csv')\n",
    "val_df = pd.read_csv('data/val_df.csv')\n",
    "train_df.score = (train_df.score >= 0.5).astype(float)\n",
    "val_df.score = (val_df.score >= 0.5).astype(float)\n",
    "train_df.shape, val_df.shape"
   ]
  },
  {
   "cell_type": "markdown",
   "id": "a47aaa5a-7933-4e33-9fd4-3f071ac06595",
   "metadata": {},
   "source": [
    "## Loading Model & Tokenizer"
   ]
  },
  {
   "cell_type": "code",
   "execution_count": 5,
   "id": "7490900f-c186-4e5d-af15-c76696743bb8",
   "metadata": {
    "tags": []
   },
   "outputs": [],
   "source": [
    "model_ckpt = \"distilbert-base-uncased\"\n",
    "# model_ckpt = \"microsoft/deberta-v3-small\"\n",
    "\n",
    "device = torch.device(\"cuda\" if torch.cuda.is_available() else \"cpu\")\n",
    "tokenizer = AutoTokenizer.from_pretrained(model_ckpt)"
   ]
  },
  {
   "cell_type": "code",
   "execution_count": 6,
   "id": "43bb17ff-899e-4ca0-8520-72d1c5a3b84a",
   "metadata": {
    "tags": []
   },
   "outputs": [],
   "source": [
    "def tok_func(x): return tokenizer(x[\"inputs\"])"
   ]
  },
  {
   "cell_type": "code",
   "execution_count": 7,
   "id": "d6eee415-38a3-4104-95fd-5c2e0e93e202",
   "metadata": {
    "tags": []
   },
   "outputs": [
    {
     "data": {
      "text/plain": [
       "' [SEP] '"
      ]
     },
     "execution_count": 7,
     "metadata": {},
     "output_type": "execute_result"
    }
   ],
   "source": [
    "sep = \" \" + tokenizer.sep_token + \" \"\n",
    "sep"
   ]
  },
  {
   "cell_type": "markdown",
   "id": "fdb36ad2-a7ee-460c-9361-e89baa74b45e",
   "metadata": {},
   "source": [
    "## Preparing Data"
   ]
  },
  {
   "cell_type": "code",
   "execution_count": 17,
   "id": "1c5f636b-670e-44bb-84fa-0f38eca5f3ce",
   "metadata": {
    "tags": []
   },
   "outputs": [],
   "source": [
    "def get_dds(train_df, val_df):\n",
    "    train_ds = Dataset.from_pandas(train_df).rename_column('score', 'label')\n",
    "    val_ds = Dataset.from_pandas(val_df).rename_column('score', 'label')\n",
    "\n",
    "    inps = \"anchor\",\"target\",\"context\"\n",
    "    train_ds = train_ds.map(tok_func, batched=True, remove_columns=inps+('inputs',))\n",
    "    val_ds = val_ds.map(tok_func, batched=True, remove_columns=inps+('inputs',))\n",
    "\n",
    "    dds = DatasetDict({\"train\":train_ds, \"valid\": val_ds})\n",
    "    return dds"
   ]
  },
  {
   "cell_type": "markdown",
   "id": "1ee29d78-591e-4c4f-a988-65695d5ab028",
   "metadata": {},
   "source": [
    "## Training Setup"
   ]
  },
  {
   "cell_type": "code",
   "execution_count": 12,
   "id": "35bf7ab2-f17d-4b7a-b93f-edf66c8218cd",
   "metadata": {
    "tags": []
   },
   "outputs": [],
   "source": [
    "metric = load_metric('accuracy')\n",
    "\n",
    "def accuracy(eval_pred):\n",
    "    predictions, labels = eval_pred\n",
    "    predictions = np.where(predictions>= 0.5, 1, 0)\n",
    "    return metric.compute(predictions=predictions, references=labels)"
   ]
  },
  {
   "cell_type": "code",
   "execution_count": 13,
   "id": "172bcb0a-635a-4f8d-ba11-ef794aaa6794",
   "metadata": {
    "tags": []
   },
   "outputs": [],
   "source": [
    "lr,bs = 8e-5, 128\n",
    "wd,epochs = 0.01, 10"
   ]
  },
  {
   "cell_type": "code",
   "execution_count": 14,
   "id": "01ccd249-a91c-4880-8490-08f103380026",
   "metadata": {
    "tags": []
   },
   "outputs": [],
   "source": [
    "args = TrainingArguments('outputs', learning_rate=lr, warmup_ratio=0.1, lr_scheduler_type='cosine',\n",
    "                         fp16=True, evaluation_strategy=\"epoch\", \n",
    "                         per_device_train_batch_size=bs, per_device_eval_batch_size=int(bs*1.5),\n",
    "                         num_train_epochs=epochs, weight_decay=wd, report_to='none')"
   ]
  },
  {
   "cell_type": "markdown",
   "id": "5efc318f-0b9c-460d-b1e3-c74c7776412d",
   "metadata": {},
   "source": [
    "## Training"
   ]
  },
  {
   "cell_type": "markdown",
   "id": "f52aec62-e939-4210-b99d-21c3d921c56d",
   "metadata": {},
   "source": [
    "### Without context"
   ]
  },
  {
   "cell_type": "code",
   "execution_count": 15,
   "id": "7141093e-0076-4490-8fad-89b3bbb07f6a",
   "metadata": {
    "tags": []
   },
   "outputs": [],
   "source": [
    "train_df['inputs'] = \"TEXT1: \" + train_df.anchor + \" TEXT2: \" + train_df.target\n",
    "val_df['inputs'] = \"TEXT1: \" + val_df.anchor + \" TEXT2: \" + val_df.target"
   ]
  },
  {
   "cell_type": "code",
   "execution_count": 18,
   "id": "c3e26512-76b4-45e3-a939-b7721eb1d897",
   "metadata": {
    "tags": []
   },
   "outputs": [
    {
     "name": "stderr",
     "output_type": "stream",
     "text": [
      "                                                               \r"
     ]
    }
   ],
   "source": [
    "dds = get_dds(train_df, val_df)"
   ]
  },
  {
   "cell_type": "code",
   "execution_count": 19,
   "id": "e3bc17c5-5cf5-4301-a707-4deded8201d7",
   "metadata": {
    "tags": []
   },
   "outputs": [],
   "source": [
    "model = AutoModelForSequenceClassification.from_pretrained(model_ckpt, num_labels=1)\n",
    "trainer = Trainer(model, args, \n",
    "                  train_dataset=dds['train'], eval_dataset=dds['valid'], \n",
    "                  tokenizer=tokenizer, compute_metrics=accuracy)"
   ]
  },
  {
   "cell_type": "code",
   "execution_count": 20,
   "id": "5f2cafde-7647-4099-91fe-3d14ac303c67",
   "metadata": {
    "tags": []
   },
   "outputs": [
    {
     "data": {
      "text/html": [
       "\n",
       "    <div>\n",
       "      \n",
       "      <progress value='2140' max='2140' style='width:300px; height:20px; vertical-align: middle;'></progress>\n",
       "      [2140/2140 02:40, Epoch 10/10]\n",
       "    </div>\n",
       "    <table border=\"1\" class=\"dataframe\">\n",
       "  <thead>\n",
       " <tr style=\"text-align: left;\">\n",
       "      <th>Epoch</th>\n",
       "      <th>Training Loss</th>\n",
       "      <th>Validation Loss</th>\n",
       "      <th>Accuracy</th>\n",
       "    </tr>\n",
       "  </thead>\n",
       "  <tbody>\n",
       "    <tr>\n",
       "      <td>1</td>\n",
       "      <td>No log</td>\n",
       "      <td>0.166296</td>\n",
       "      <td>0.775578</td>\n",
       "    </tr>\n",
       "    <tr>\n",
       "      <td>2</td>\n",
       "      <td>No log</td>\n",
       "      <td>0.149712</td>\n",
       "      <td>0.793069</td>\n",
       "    </tr>\n",
       "    <tr>\n",
       "      <td>3</td>\n",
       "      <td>0.159800</td>\n",
       "      <td>0.161773</td>\n",
       "      <td>0.783938</td>\n",
       "    </tr>\n",
       "    <tr>\n",
       "      <td>4</td>\n",
       "      <td>0.159800</td>\n",
       "      <td>0.154818</td>\n",
       "      <td>0.791969</td>\n",
       "    </tr>\n",
       "    <tr>\n",
       "      <td>5</td>\n",
       "      <td>0.076300</td>\n",
       "      <td>0.163993</td>\n",
       "      <td>0.791419</td>\n",
       "    </tr>\n",
       "    <tr>\n",
       "      <td>6</td>\n",
       "      <td>0.076300</td>\n",
       "      <td>0.179080</td>\n",
       "      <td>0.787019</td>\n",
       "    </tr>\n",
       "    <tr>\n",
       "      <td>7</td>\n",
       "      <td>0.076300</td>\n",
       "      <td>0.174618</td>\n",
       "      <td>0.791419</td>\n",
       "    </tr>\n",
       "    <tr>\n",
       "      <td>8</td>\n",
       "      <td>0.040600</td>\n",
       "      <td>0.179530</td>\n",
       "      <td>0.790979</td>\n",
       "    </tr>\n",
       "    <tr>\n",
       "      <td>9</td>\n",
       "      <td>0.040600</td>\n",
       "      <td>0.180879</td>\n",
       "      <td>0.792079</td>\n",
       "    </tr>\n",
       "    <tr>\n",
       "      <td>10</td>\n",
       "      <td>0.026200</td>\n",
       "      <td>0.182508</td>\n",
       "      <td>0.791639</td>\n",
       "    </tr>\n",
       "  </tbody>\n",
       "</table><p>"
      ],
      "text/plain": [
       "<IPython.core.display.HTML object>"
      ]
     },
     "metadata": {},
     "output_type": "display_data"
    }
   ],
   "source": [
    "# model : distilbert-base-uncased\n",
    "trainer.train();"
   ]
  },
  {
   "cell_type": "markdown",
   "id": "f53107e9-34c9-4633-b3e3-7d6d79237ea4",
   "metadata": {},
   "source": [
    "### With Context"
   ]
  },
  {
   "cell_type": "code",
   "execution_count": 21,
   "id": "570393bb-0735-4df0-b1c9-4665da6aa3fc",
   "metadata": {
    "tags": []
   },
   "outputs": [],
   "source": [
    "train_df['inputs'] = \"TEXT1: \" + train_df.anchor + \" TEXT2: \" + train_df.target + \" CONTEXT: \" + train_df.target\n",
    "val_df['inputs'] = \"TEXT1: \" + val_df.anchor + \" TEXT2: \" + val_df.target + \" CONTEXT: \" + val_df.target"
   ]
  },
  {
   "cell_type": "code",
   "execution_count": 22,
   "id": "73706f1a-41a6-4e93-8f64-9c9f01ab19b5",
   "metadata": {
    "tags": []
   },
   "outputs": [
    {
     "name": "stderr",
     "output_type": "stream",
     "text": [
      "                                                               \r"
     ]
    }
   ],
   "source": [
    "dds = get_dds(train_df, val_df)"
   ]
  },
  {
   "cell_type": "code",
   "execution_count": 23,
   "id": "2c924a48-8b28-4b5a-a07e-096aadc71c76",
   "metadata": {
    "tags": []
   },
   "outputs": [],
   "source": [
    "model = AutoModelForSequenceClassification.from_pretrained(model_ckpt, num_labels=1)\n",
    "trainer = Trainer(model, args, \n",
    "                  train_dataset=dds['train'], eval_dataset=dds['valid'], \n",
    "                  tokenizer=tokenizer, compute_metrics=accuracy)"
   ]
  },
  {
   "cell_type": "code",
   "execution_count": 24,
   "id": "81d2d547-4cfd-45ee-af2e-b0a4b9999cec",
   "metadata": {
    "tags": []
   },
   "outputs": [
    {
     "data": {
      "text/html": [
       "\n",
       "    <div>\n",
       "      \n",
       "      <progress value='2140' max='2140' style='width:300px; height:20px; vertical-align: middle;'></progress>\n",
       "      [2140/2140 03:25, Epoch 10/10]\n",
       "    </div>\n",
       "    <table border=\"1\" class=\"dataframe\">\n",
       "  <thead>\n",
       " <tr style=\"text-align: left;\">\n",
       "      <th>Epoch</th>\n",
       "      <th>Training Loss</th>\n",
       "      <th>Validation Loss</th>\n",
       "      <th>Accuracy</th>\n",
       "    </tr>\n",
       "  </thead>\n",
       "  <tbody>\n",
       "    <tr>\n",
       "      <td>1</td>\n",
       "      <td>No log</td>\n",
       "      <td>0.158723</td>\n",
       "      <td>0.780528</td>\n",
       "    </tr>\n",
       "    <tr>\n",
       "      <td>2</td>\n",
       "      <td>No log</td>\n",
       "      <td>0.150953</td>\n",
       "      <td>0.784928</td>\n",
       "    </tr>\n",
       "    <tr>\n",
       "      <td>3</td>\n",
       "      <td>0.157200</td>\n",
       "      <td>0.159375</td>\n",
       "      <td>0.789879</td>\n",
       "    </tr>\n",
       "    <tr>\n",
       "      <td>4</td>\n",
       "      <td>0.157200</td>\n",
       "      <td>0.163825</td>\n",
       "      <td>0.782398</td>\n",
       "    </tr>\n",
       "    <tr>\n",
       "      <td>5</td>\n",
       "      <td>0.070100</td>\n",
       "      <td>0.169011</td>\n",
       "      <td>0.787789</td>\n",
       "    </tr>\n",
       "    <tr>\n",
       "      <td>6</td>\n",
       "      <td>0.070100</td>\n",
       "      <td>0.176864</td>\n",
       "      <td>0.787679</td>\n",
       "    </tr>\n",
       "    <tr>\n",
       "      <td>7</td>\n",
       "      <td>0.070100</td>\n",
       "      <td>0.180012</td>\n",
       "      <td>0.789329</td>\n",
       "    </tr>\n",
       "    <tr>\n",
       "      <td>8</td>\n",
       "      <td>0.035200</td>\n",
       "      <td>0.184525</td>\n",
       "      <td>0.788229</td>\n",
       "    </tr>\n",
       "    <tr>\n",
       "      <td>9</td>\n",
       "      <td>0.035200</td>\n",
       "      <td>0.188165</td>\n",
       "      <td>0.786359</td>\n",
       "    </tr>\n",
       "    <tr>\n",
       "      <td>10</td>\n",
       "      <td>0.021000</td>\n",
       "      <td>0.188673</td>\n",
       "      <td>0.787569</td>\n",
       "    </tr>\n",
       "  </tbody>\n",
       "</table><p>"
      ],
      "text/plain": [
       "<IPython.core.display.HTML object>"
      ]
     },
     "metadata": {},
     "output_type": "display_data"
    }
   ],
   "source": [
    "# model : distilbert-base-uncased\n",
    "trainer.train();"
   ]
  },
  {
   "cell_type": "code",
   "execution_count": null,
   "id": "59ecdcd7-443e-43e0-9564-669fb7fdf27a",
   "metadata": {},
   "outputs": [],
   "source": []
  }
 ],
 "metadata": {
  "kernelspec": {
   "display_name": "pytorch",
   "language": "python",
   "name": "pytorch"
  },
  "language_info": {
   "codemirror_mode": {
    "name": "ipython",
    "version": 3
   },
   "file_extension": ".py",
   "mimetype": "text/x-python",
   "name": "python",
   "nbconvert_exporter": "python",
   "pygments_lexer": "ipython3",
   "version": "3.10.10"
  }
 },
 "nbformat": 4,
 "nbformat_minor": 5
}
